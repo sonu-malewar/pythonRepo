{
 "cells": [
  {
   "cell_type": "code",
   "execution_count": 2,
   "id": "77bed6c2-7e46-4682-a7b8-c42624ffa83b",
   "metadata": {},
   "outputs": [],
   "source": [
    "import pandas as pd"
   ]
  },
  {
   "cell_type": "code",
   "execution_count": 3,
   "id": "e99c5d71-444f-4b35-b745-2f1c3ed4f576",
   "metadata": {},
   "outputs": [],
   "source": [
    "df = pd.read_csv(\"TestData.csv\")"
   ]
  },
  {
   "cell_type": "code",
   "execution_count": 4,
   "id": "e39e9a99-b579-4c93-8f48-1ea34448efb3",
   "metadata": {},
   "outputs": [
    {
     "data": {
      "text/html": [
       "<div>\n",
       "<style scoped>\n",
       "    .dataframe tbody tr th:only-of-type {\n",
       "        vertical-align: middle;\n",
       "    }\n",
       "\n",
       "    .dataframe tbody tr th {\n",
       "        vertical-align: top;\n",
       "    }\n",
       "\n",
       "    .dataframe thead th {\n",
       "        text-align: right;\n",
       "    }\n",
       "</style>\n",
       "<table border=\"1\" class=\"dataframe\">\n",
       "  <thead>\n",
       "    <tr style=\"text-align: right;\">\n",
       "      <th></th>\n",
       "      <th>job_title</th>\n",
       "      <th>age</th>\n",
       "      <th>deptno</th>\n",
       "      <th>ename</th>\n",
       "      <th>joining_date</th>\n",
       "      <th>salary</th>\n",
       "      <th>city</th>\n",
       "      <th>gender</th>\n",
       "      <th>category</th>\n",
       "      <th>sales</th>\n",
       "    </tr>\n",
       "  </thead>\n",
       "  <tbody>\n",
       "    <tr>\n",
       "      <th>0</th>\n",
       "      <td>Manager</td>\n",
       "      <td>30</td>\n",
       "      <td>1</td>\n",
       "      <td>Alice</td>\n",
       "      <td>2020-01-15</td>\n",
       "      <td>50000</td>\n",
       "      <td>New York</td>\n",
       "      <td>M</td>\n",
       "      <td>Electronics</td>\n",
       "      <td>1000</td>\n",
       "    </tr>\n",
       "    <tr>\n",
       "      <th>1</th>\n",
       "      <td>Engineer</td>\n",
       "      <td>25</td>\n",
       "      <td>1</td>\n",
       "      <td>Bob</td>\n",
       "      <td>2019-05-20</td>\n",
       "      <td>60000</td>\n",
       "      <td>Los Angeles</td>\n",
       "      <td>F</td>\n",
       "      <td>Clothing</td>\n",
       "      <td>500</td>\n",
       "    </tr>\n",
       "    <tr>\n",
       "      <th>2</th>\n",
       "      <td>Manager</td>\n",
       "      <td>35</td>\n",
       "      <td>2</td>\n",
       "      <td>Charlie</td>\n",
       "      <td>2021-03-30</td>\n",
       "      <td>55000</td>\n",
       "      <td>New York</td>\n",
       "      <td>M</td>\n",
       "      <td>Electronics</td>\n",
       "      <td>1500</td>\n",
       "    </tr>\n",
       "    <tr>\n",
       "      <th>3</th>\n",
       "      <td>Engineer</td>\n",
       "      <td>28</td>\n",
       "      <td>2</td>\n",
       "      <td>David</td>\n",
       "      <td>2018-08-12</td>\n",
       "      <td>70000</td>\n",
       "      <td>Chicago</td>\n",
       "      <td>F</td>\n",
       "      <td>Groceries</td>\n",
       "      <td>700</td>\n",
       "    </tr>\n",
       "    <tr>\n",
       "      <th>4</th>\n",
       "      <td>Manager</td>\n",
       "      <td>40</td>\n",
       "      <td>3</td>\n",
       "      <td>Eve</td>\n",
       "      <td>2020-11-10</td>\n",
       "      <td>60000</td>\n",
       "      <td>Los Angeles</td>\n",
       "      <td>M</td>\n",
       "      <td>Clothing</td>\n",
       "      <td>800</td>\n",
       "    </tr>\n",
       "  </tbody>\n",
       "</table>\n",
       "</div>"
      ],
      "text/plain": [
       "  job_title  age  deptno    ename joining_date  salary         city gender  \\\n",
       "0   Manager   30       1    Alice   2020-01-15   50000     New York      M   \n",
       "1  Engineer   25       1      Bob   2019-05-20   60000  Los Angeles      F   \n",
       "2   Manager   35       2  Charlie   2021-03-30   55000     New York      M   \n",
       "3  Engineer   28       2    David   2018-08-12   70000      Chicago      F   \n",
       "4   Manager   40       3      Eve   2020-11-10   60000  Los Angeles      M   \n",
       "\n",
       "      category  sales  \n",
       "0  Electronics   1000  \n",
       "1     Clothing    500  \n",
       "2  Electronics   1500  \n",
       "3    Groceries    700  \n",
       "4     Clothing    800  "
      ]
     },
     "execution_count": 4,
     "metadata": {},
     "output_type": "execute_result"
    }
   ],
   "source": [
    "df"
   ]
  },
  {
   "cell_type": "code",
   "execution_count": 4,
   "id": "d120e86a-f83b-46e0-861e-a33b6b5c60bc",
   "metadata": {},
   "outputs": [],
   "source": [
    "avgDf=df.groupby('job_title')['age'].median()"
   ]
  },
  {
   "cell_type": "code",
   "execution_count": 5,
   "id": "980f1d49-0f2d-48bc-81ba-da28e15cb3a3",
   "metadata": {},
   "outputs": [
    {
     "data": {
      "text/plain": [
       "job_title\n",
       "Engineer    26.5\n",
       "Manager     35.0\n",
       "Name: age, dtype: float64"
      ]
     },
     "execution_count": 5,
     "metadata": {},
     "output_type": "execute_result"
    }
   ],
   "source": [
    "avgDf"
   ]
  },
  {
   "cell_type": "code",
   "execution_count": 6,
   "id": "dc80f8f4-ed1b-4df6-a691-a3d20830a046",
   "metadata": {},
   "outputs": [],
   "source": [
    "countDf = df.groupby('deptno').count()"
   ]
  },
  {
   "cell_type": "code",
   "execution_count": 7,
   "id": "0b2c442e-f621-48de-b1d2-004252ed697a",
   "metadata": {},
   "outputs": [
    {
     "data": {
      "text/html": [
       "<div>\n",
       "<style scoped>\n",
       "    .dataframe tbody tr th:only-of-type {\n",
       "        vertical-align: middle;\n",
       "    }\n",
       "\n",
       "    .dataframe tbody tr th {\n",
       "        vertical-align: top;\n",
       "    }\n",
       "\n",
       "    .dataframe thead th {\n",
       "        text-align: right;\n",
       "    }\n",
       "</style>\n",
       "<table border=\"1\" class=\"dataframe\">\n",
       "  <thead>\n",
       "    <tr style=\"text-align: right;\">\n",
       "      <th></th>\n",
       "      <th>job_title</th>\n",
       "      <th>age</th>\n",
       "      <th>ename</th>\n",
       "      <th>joining_date</th>\n",
       "      <th>salary</th>\n",
       "      <th>city</th>\n",
       "      <th>gender</th>\n",
       "    </tr>\n",
       "    <tr>\n",
       "      <th>deptno</th>\n",
       "      <th></th>\n",
       "      <th></th>\n",
       "      <th></th>\n",
       "      <th></th>\n",
       "      <th></th>\n",
       "      <th></th>\n",
       "      <th></th>\n",
       "    </tr>\n",
       "  </thead>\n",
       "  <tbody>\n",
       "    <tr>\n",
       "      <th>1</th>\n",
       "      <td>2</td>\n",
       "      <td>2</td>\n",
       "      <td>2</td>\n",
       "      <td>2</td>\n",
       "      <td>2</td>\n",
       "      <td>2</td>\n",
       "      <td>2</td>\n",
       "    </tr>\n",
       "    <tr>\n",
       "      <th>2</th>\n",
       "      <td>2</td>\n",
       "      <td>2</td>\n",
       "      <td>2</td>\n",
       "      <td>2</td>\n",
       "      <td>2</td>\n",
       "      <td>2</td>\n",
       "      <td>2</td>\n",
       "    </tr>\n",
       "    <tr>\n",
       "      <th>3</th>\n",
       "      <td>1</td>\n",
       "      <td>1</td>\n",
       "      <td>1</td>\n",
       "      <td>1</td>\n",
       "      <td>1</td>\n",
       "      <td>1</td>\n",
       "      <td>1</td>\n",
       "    </tr>\n",
       "  </tbody>\n",
       "</table>\n",
       "</div>"
      ],
      "text/plain": [
       "        job_title  age  ename  joining_date  salary  city  gender\n",
       "deptno                                                           \n",
       "1               2    2      2             2       2     2       2\n",
       "2               2    2      2             2       2     2       2\n",
       "3               1    1      1             1       1     1       1"
      ]
     },
     "execution_count": 7,
     "metadata": {},
     "output_type": "execute_result"
    }
   ],
   "source": [
    "countDf"
   ]
  },
  {
   "cell_type": "code",
   "execution_count": 8,
   "id": "ad15b727-c130-419d-8fbe-346cc64b022c",
   "metadata": {},
   "outputs": [],
   "source": [
    "sortedDF = df.sort_values(by='joining_date', ascending=False)"
   ]
  },
  {
   "cell_type": "code",
   "execution_count": 9,
   "id": "a93e137f-4ff3-4dac-817d-6fb55d9f3ebe",
   "metadata": {},
   "outputs": [
    {
     "data": {
      "text/html": [
       "<div>\n",
       "<style scoped>\n",
       "    .dataframe tbody tr th:only-of-type {\n",
       "        vertical-align: middle;\n",
       "    }\n",
       "\n",
       "    .dataframe tbody tr th {\n",
       "        vertical-align: top;\n",
       "    }\n",
       "\n",
       "    .dataframe thead th {\n",
       "        text-align: right;\n",
       "    }\n",
       "</style>\n",
       "<table border=\"1\" class=\"dataframe\">\n",
       "  <thead>\n",
       "    <tr style=\"text-align: right;\">\n",
       "      <th></th>\n",
       "      <th>job_title</th>\n",
       "      <th>age</th>\n",
       "      <th>deptno</th>\n",
       "      <th>ename</th>\n",
       "      <th>joining_date</th>\n",
       "      <th>salary</th>\n",
       "      <th>city</th>\n",
       "      <th>gender</th>\n",
       "    </tr>\n",
       "  </thead>\n",
       "  <tbody>\n",
       "    <tr>\n",
       "      <th>2</th>\n",
       "      <td>Manager</td>\n",
       "      <td>35</td>\n",
       "      <td>2</td>\n",
       "      <td>Charlie</td>\n",
       "      <td>2021-03-30</td>\n",
       "      <td>55000</td>\n",
       "      <td>New York</td>\n",
       "      <td>M</td>\n",
       "    </tr>\n",
       "    <tr>\n",
       "      <th>4</th>\n",
       "      <td>Manager</td>\n",
       "      <td>40</td>\n",
       "      <td>3</td>\n",
       "      <td>Eve</td>\n",
       "      <td>2020-11-10</td>\n",
       "      <td>60000</td>\n",
       "      <td>Los Angeles</td>\n",
       "      <td>M</td>\n",
       "    </tr>\n",
       "    <tr>\n",
       "      <th>0</th>\n",
       "      <td>Manager</td>\n",
       "      <td>30</td>\n",
       "      <td>1</td>\n",
       "      <td>Alice</td>\n",
       "      <td>2020-01-15</td>\n",
       "      <td>50000</td>\n",
       "      <td>New York</td>\n",
       "      <td>M</td>\n",
       "    </tr>\n",
       "    <tr>\n",
       "      <th>1</th>\n",
       "      <td>Engineer</td>\n",
       "      <td>25</td>\n",
       "      <td>1</td>\n",
       "      <td>Bob</td>\n",
       "      <td>2019-05-20</td>\n",
       "      <td>60000</td>\n",
       "      <td>Los Angeles</td>\n",
       "      <td>F</td>\n",
       "    </tr>\n",
       "    <tr>\n",
       "      <th>3</th>\n",
       "      <td>Engineer</td>\n",
       "      <td>28</td>\n",
       "      <td>2</td>\n",
       "      <td>David</td>\n",
       "      <td>2018-08-12</td>\n",
       "      <td>70000</td>\n",
       "      <td>Chicago</td>\n",
       "      <td>F</td>\n",
       "    </tr>\n",
       "  </tbody>\n",
       "</table>\n",
       "</div>"
      ],
      "text/plain": [
       "  job_title  age  deptno    ename joining_date  salary         city gender\n",
       "2   Manager   35       2  Charlie   2021-03-30   55000     New York      M\n",
       "4   Manager   40       3      Eve   2020-11-10   60000  Los Angeles      M\n",
       "0   Manager   30       1    Alice   2020-01-15   50000     New York      M\n",
       "1  Engineer   25       1      Bob   2019-05-20   60000  Los Angeles      F\n",
       "3  Engineer   28       2    David   2018-08-12   70000      Chicago      F"
      ]
     },
     "execution_count": 9,
     "metadata": {},
     "output_type": "execute_result"
    }
   ],
   "source": [
    "sortedDF"
   ]
  },
  {
   "cell_type": "code",
   "execution_count": 10,
   "id": "7bd2bf3b-477c-4ece-ab5e-6a56b4514744",
   "metadata": {},
   "outputs": [],
   "source": [
    "maxDF = df.groupby('deptno')['salary'].max();"
   ]
  },
  {
   "cell_type": "code",
   "execution_count": 11,
   "id": "5fe649a4-ede9-4694-89a3-9a55a539ea94",
   "metadata": {},
   "outputs": [
    {
     "data": {
      "text/plain": [
       "deptno\n",
       "1    60000\n",
       "2    70000\n",
       "3    60000\n",
       "Name: salary, dtype: int64"
      ]
     },
     "execution_count": 11,
     "metadata": {},
     "output_type": "execute_result"
    }
   ],
   "source": [
    "maxDF"
   ]
  },
  {
   "cell_type": "code",
   "execution_count": 12,
   "id": "5673c2cf-5b9a-42a7-805a-08755022b855",
   "metadata": {},
   "outputs": [],
   "source": [
    "empCountDF=df.groupby('city').count()"
   ]
  },
  {
   "cell_type": "code",
   "execution_count": 13,
   "id": "22ef7777-9da2-43d4-a532-a052cea0a8ae",
   "metadata": {},
   "outputs": [
    {
     "data": {
      "text/html": [
       "<div>\n",
       "<style scoped>\n",
       "    .dataframe tbody tr th:only-of-type {\n",
       "        vertical-align: middle;\n",
       "    }\n",
       "\n",
       "    .dataframe tbody tr th {\n",
       "        vertical-align: top;\n",
       "    }\n",
       "\n",
       "    .dataframe thead th {\n",
       "        text-align: right;\n",
       "    }\n",
       "</style>\n",
       "<table border=\"1\" class=\"dataframe\">\n",
       "  <thead>\n",
       "    <tr style=\"text-align: right;\">\n",
       "      <th></th>\n",
       "      <th>job_title</th>\n",
       "      <th>age</th>\n",
       "      <th>deptno</th>\n",
       "      <th>ename</th>\n",
       "      <th>joining_date</th>\n",
       "      <th>salary</th>\n",
       "      <th>gender</th>\n",
       "    </tr>\n",
       "    <tr>\n",
       "      <th>city</th>\n",
       "      <th></th>\n",
       "      <th></th>\n",
       "      <th></th>\n",
       "      <th></th>\n",
       "      <th></th>\n",
       "      <th></th>\n",
       "      <th></th>\n",
       "    </tr>\n",
       "  </thead>\n",
       "  <tbody>\n",
       "    <tr>\n",
       "      <th>Chicago</th>\n",
       "      <td>1</td>\n",
       "      <td>1</td>\n",
       "      <td>1</td>\n",
       "      <td>1</td>\n",
       "      <td>1</td>\n",
       "      <td>1</td>\n",
       "      <td>1</td>\n",
       "    </tr>\n",
       "    <tr>\n",
       "      <th>Los Angeles</th>\n",
       "      <td>2</td>\n",
       "      <td>2</td>\n",
       "      <td>2</td>\n",
       "      <td>2</td>\n",
       "      <td>2</td>\n",
       "      <td>2</td>\n",
       "      <td>2</td>\n",
       "    </tr>\n",
       "    <tr>\n",
       "      <th>New York</th>\n",
       "      <td>2</td>\n",
       "      <td>2</td>\n",
       "      <td>2</td>\n",
       "      <td>2</td>\n",
       "      <td>2</td>\n",
       "      <td>2</td>\n",
       "      <td>2</td>\n",
       "    </tr>\n",
       "  </tbody>\n",
       "</table>\n",
       "</div>"
      ],
      "text/plain": [
       "             job_title  age  deptno  ename  joining_date  salary  gender\n",
       "city                                                                    \n",
       "Chicago              1    1       1      1             1       1       1\n",
       "Los Angeles          2    2       2      2             2       2       2\n",
       "New York             2    2       2      2             2       2       2"
      ]
     },
     "execution_count": 13,
     "metadata": {},
     "output_type": "execute_result"
    }
   ],
   "source": [
    "empCountDF"
   ]
  },
  {
   "cell_type": "code",
   "execution_count": 7,
   "id": "3cf73cb8-4c68-4ab4-ab78-dc95090d2767",
   "metadata": {},
   "outputs": [
    {
     "data": {
      "text/html": [
       "<div>\n",
       "<style scoped>\n",
       "    .dataframe tbody tr th:only-of-type {\n",
       "        vertical-align: middle;\n",
       "    }\n",
       "\n",
       "    .dataframe tbody tr th {\n",
       "        vertical-align: top;\n",
       "    }\n",
       "\n",
       "    .dataframe thead th {\n",
       "        text-align: right;\n",
       "    }\n",
       "</style>\n",
       "<table border=\"1\" class=\"dataframe\">\n",
       "  <thead>\n",
       "    <tr style=\"text-align: right;\">\n",
       "      <th></th>\n",
       "      <th>job_title</th>\n",
       "      <th>age</th>\n",
       "      <th>deptno</th>\n",
       "      <th>ename</th>\n",
       "      <th>joining_date</th>\n",
       "      <th>salary</th>\n",
       "      <th>city</th>\n",
       "      <th>gender</th>\n",
       "      <th>category</th>\n",
       "      <th>sales</th>\n",
       "    </tr>\n",
       "  </thead>\n",
       "  <tbody>\n",
       "    <tr>\n",
       "      <th>0</th>\n",
       "      <td>Manager</td>\n",
       "      <td>30</td>\n",
       "      <td>1</td>\n",
       "      <td>Alice</td>\n",
       "      <td>2020-01-15</td>\n",
       "      <td>50000</td>\n",
       "      <td>New York</td>\n",
       "      <td>M</td>\n",
       "      <td>Electronics</td>\n",
       "      <td>1000</td>\n",
       "    </tr>\n",
       "    <tr>\n",
       "      <th>1</th>\n",
       "      <td>Engineer</td>\n",
       "      <td>25</td>\n",
       "      <td>1</td>\n",
       "      <td>Bob</td>\n",
       "      <td>2019-05-20</td>\n",
       "      <td>60000</td>\n",
       "      <td>Los Angeles</td>\n",
       "      <td>F</td>\n",
       "      <td>Clothing</td>\n",
       "      <td>500</td>\n",
       "    </tr>\n",
       "    <tr>\n",
       "      <th>2</th>\n",
       "      <td>Manager</td>\n",
       "      <td>35</td>\n",
       "      <td>2</td>\n",
       "      <td>Charlie</td>\n",
       "      <td>2021-03-30</td>\n",
       "      <td>55000</td>\n",
       "      <td>New York</td>\n",
       "      <td>M</td>\n",
       "      <td>Electronics</td>\n",
       "      <td>1500</td>\n",
       "    </tr>\n",
       "    <tr>\n",
       "      <th>3</th>\n",
       "      <td>Engineer</td>\n",
       "      <td>28</td>\n",
       "      <td>2</td>\n",
       "      <td>David</td>\n",
       "      <td>2018-08-12</td>\n",
       "      <td>70000</td>\n",
       "      <td>Chicago</td>\n",
       "      <td>F</td>\n",
       "      <td>Groceries</td>\n",
       "      <td>700</td>\n",
       "    </tr>\n",
       "    <tr>\n",
       "      <th>4</th>\n",
       "      <td>Manager</td>\n",
       "      <td>40</td>\n",
       "      <td>3</td>\n",
       "      <td>Eve</td>\n",
       "      <td>2020-11-10</td>\n",
       "      <td>60000</td>\n",
       "      <td>Los Angeles</td>\n",
       "      <td>M</td>\n",
       "      <td>Clothing</td>\n",
       "      <td>800</td>\n",
       "    </tr>\n",
       "  </tbody>\n",
       "</table>\n",
       "</div>"
      ],
      "text/plain": [
       "  job_title  age  deptno    ename joining_date  salary         city gender  \\\n",
       "0   Manager   30       1    Alice   2020-01-15   50000     New York      M   \n",
       "1  Engineer   25       1      Bob   2019-05-20   60000  Los Angeles      F   \n",
       "2   Manager   35       2  Charlie   2021-03-30   55000     New York      M   \n",
       "3  Engineer   28       2    David   2018-08-12   70000      Chicago      F   \n",
       "4   Manager   40       3      Eve   2020-11-10   60000  Los Angeles      M   \n",
       "\n",
       "      category  sales  \n",
       "0  Electronics   1000  \n",
       "1     Clothing    500  \n",
       "2  Electronics   1500  \n",
       "3    Groceries    700  \n",
       "4     Clothing    800  "
      ]
     },
     "execution_count": 7,
     "metadata": {},
     "output_type": "execute_result"
    }
   ],
   "source": [
    "df"
   ]
  },
  {
   "cell_type": "code",
   "execution_count": 8,
   "id": "69119313-c620-449b-94b5-6a253e9a10d6",
   "metadata": {},
   "outputs": [],
   "source": [
    "salDF = df.groupby('gender')['salary'].agg(['min','max'])"
   ]
  },
  {
   "cell_type": "code",
   "execution_count": 9,
   "id": "44b993a8-9fd2-4f7a-a5df-3662260d6edf",
   "metadata": {},
   "outputs": [
    {
     "data": {
      "text/html": [
       "<div>\n",
       "<style scoped>\n",
       "    .dataframe tbody tr th:only-of-type {\n",
       "        vertical-align: middle;\n",
       "    }\n",
       "\n",
       "    .dataframe tbody tr th {\n",
       "        vertical-align: top;\n",
       "    }\n",
       "\n",
       "    .dataframe thead th {\n",
       "        text-align: right;\n",
       "    }\n",
       "</style>\n",
       "<table border=\"1\" class=\"dataframe\">\n",
       "  <thead>\n",
       "    <tr style=\"text-align: right;\">\n",
       "      <th></th>\n",
       "      <th>min</th>\n",
       "      <th>max</th>\n",
       "    </tr>\n",
       "    <tr>\n",
       "      <th>gender</th>\n",
       "      <th></th>\n",
       "      <th></th>\n",
       "    </tr>\n",
       "  </thead>\n",
       "  <tbody>\n",
       "    <tr>\n",
       "      <th>F</th>\n",
       "      <td>60000</td>\n",
       "      <td>70000</td>\n",
       "    </tr>\n",
       "    <tr>\n",
       "      <th>M</th>\n",
       "      <td>50000</td>\n",
       "      <td>60000</td>\n",
       "    </tr>\n",
       "  </tbody>\n",
       "</table>\n",
       "</div>"
      ],
      "text/plain": [
       "          min    max\n",
       "gender              \n",
       "F       60000  70000\n",
       "M       50000  60000"
      ]
     },
     "execution_count": 9,
     "metadata": {},
     "output_type": "execute_result"
    }
   ],
   "source": [
    "salDF"
   ]
  },
  {
   "cell_type": "code",
   "execution_count": 10,
   "id": "488e7868-b8c2-4b70-8fdb-5aaefb5ac196",
   "metadata": {},
   "outputs": [],
   "source": [
    "sumDf=df.groupby('category')['sales'].sum()"
   ]
  },
  {
   "cell_type": "code",
   "execution_count": 11,
   "id": "e9fef31c-10fd-4a34-9e36-7cb2e8ced7a3",
   "metadata": {},
   "outputs": [
    {
     "data": {
      "text/plain": [
       "category\n",
       "Clothing       1300\n",
       "Electronics    2500\n",
       "Groceries       700\n",
       "Name: sales, dtype: int64"
      ]
     },
     "execution_count": 11,
     "metadata": {},
     "output_type": "execute_result"
    }
   ],
   "source": [
    "sumDf"
   ]
  },
  {
   "cell_type": "code",
   "execution_count": 12,
   "id": "4ca81ac8-0467-4556-9747-c2080ac6c467",
   "metadata": {},
   "outputs": [],
   "source": [
    "avgSalDF=df.groupby('deptno')['salary'].mean()"
   ]
  },
  {
   "cell_type": "code",
   "execution_count": null,
   "id": "fa71e127-4ee4-42f8-94df-2ddad5e4ba08",
   "metadata": {},
   "outputs": [],
   "source": []
  }
 ],
 "metadata": {
  "kernelspec": {
   "display_name": "Python 3 (ipykernel)",
   "language": "python",
   "name": "python3"
  },
  "language_info": {
   "codemirror_mode": {
    "name": "ipython",
    "version": 3
   },
   "file_extension": ".py",
   "mimetype": "text/x-python",
   "name": "python",
   "nbconvert_exporter": "python",
   "pygments_lexer": "ipython3",
   "version": "3.12.6"
  }
 },
 "nbformat": 4,
 "nbformat_minor": 5
}
