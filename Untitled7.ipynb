{
 "cells": [
  {
   "cell_type": "code",
   "execution_count": null,
   "id": "0dd4bd69-508d-4310-984a-cee542160ef4",
   "metadata": {},
   "outputs": [],
   "source": []
  }
 ],
 "metadata": {
  "kernelspec": {
   "display_name": "",
   "name": ""
  },
  "language_info": {
   "name": ""
  }
 },
 "nbformat": 4,
 "nbformat_minor": 5
}
